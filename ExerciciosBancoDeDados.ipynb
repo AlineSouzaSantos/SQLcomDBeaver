{
  "nbformat": 4,
  "nbformat_minor": 0,
  "metadata": {
    "colab": {
      "provenance": [],
      "authorship_tag": "ABX9TyNGUXGntphhuRUEp8IMyq3d",
      "include_colab_link": true
    },
    "kernelspec": {
      "name": "python3",
      "display_name": "Python 3"
    },
    "language_info": {
      "name": "python"
    }
  },
  "cells": [
    {
      "cell_type": "markdown",
      "metadata": {
        "id": "view-in-github",
        "colab_type": "text"
      },
      "source": [
        "<a href=\"https://colab.research.google.com/github/AlineSouzaSantos/SQLcomDBeaver/blob/main/ExerciciosBancoDeDados.ipynb\" target=\"_parent\"><img src=\"https://colab.research.google.com/assets/colab-badge.svg\" alt=\"Open In Colab\"/></a>"
      ]
    },
    {
      "cell_type": "code",
      "execution_count": null,
      "metadata": {
        "id": "qieQg5JLnDty"
      },
      "outputs": [],
      "source": [
        "#Carregando SQLlite para poder utilizar comandos SQL no colab\n",
        "import sqlite3"
      ]
    },
    {
      "cell_type": "code",
      "source": [
        "#Criando conexão com banco\n",
        "Conexao = sqlite3.connect('Banco_Dados')"
      ],
      "metadata": {
        "id": "VinQaNmvnTJC"
      },
      "execution_count": null,
      "outputs": []
    },
    {
      "cell_type": "code",
      "source": [
        "#Apontar para banco\n",
        "cursor = Conexao.cursor()"
      ],
      "metadata": {
        "id": "YwVMHe8XpVtS"
      },
      "execution_count": null,
      "outputs": []
    },
    {
      "cell_type": "markdown",
      "source": [
        "1. Crie uma tabela chamada \"alunos\" com os seguintes campos: id\n",
        "(inteiro), nome (texto), idade (inteiro) e curso (texto)"
      ],
      "metadata": {
        "id": "VaXOt6EwngQS"
      }
    },
    {
      "cell_type": "code",
      "source": [
        "cursor.execute('CREATE TABLE alunos (id INTEGER PRIMARY KEY,nome VARCHAR(100),idade INTEGER,curso VARCHAR(100))')"
      ],
      "metadata": {
        "colab": {
          "base_uri": "https://localhost:8080/"
        },
        "id": "OAUXGWEnnkfh",
        "outputId": "f2485b6d-ecb7-4f8c-ac9a-f002a347b30d"
      },
      "execution_count": null,
      "outputs": [
        {
          "output_type": "execute_result",
          "data": {
            "text/plain": [
              "<sqlite3.Cursor at 0x7a7a9ad44ec0>"
            ]
          },
          "metadata": {},
          "execution_count": 18
        }
      ]
    },
    {
      "cell_type": "markdown",
      "source": [
        "2. Insira pelo menos 5 registros de alunos na tabela que você criou no\n",
        "exercício anterior."
      ],
      "metadata": {
        "id": "52NO5_MFnyjx"
      }
    },
    {
      "cell_type": "code",
      "source": [
        "cursor.execute(\"INSERT INTO alunos (nome, idade, curso) VALUES ('João', 20, 'Engenharia')\")\n",
        "cursor.execute(\"INSERT INTO alunos (nome, idade, curso) VALUES ('Maria', 22, 'Medicina')\")\n",
        "cursor.execute(\"INSERT INTO alunos (nome, idade, curso) VALUES ('Pedro',25, 'Ciência da Computação')\")\n",
        "cursor.execute(\"INSERT INTO alunos (nome, idade, curso) VALUES ('Isadora',19,'Psicologia')\")\n",
        "cursor.execute(\"INSERT INTO alunos (nome, idade, curso) VALUES ('Matheus',21,'Engenharia')\")\n"
      ],
      "metadata": {
        "colab": {
          "base_uri": "https://localhost:8080/"
        },
        "id": "7Wpw59gcn0xx",
        "outputId": "879c094b-779d-4012-a24d-d9de48bb80c0"
      },
      "execution_count": null,
      "outputs": [
        {
          "output_type": "execute_result",
          "data": {
            "text/plain": [
              "<sqlite3.Cursor at 0x7a7a9ad44ec0>"
            ]
          },
          "metadata": {},
          "execution_count": 20
        }
      ]
    },
    {
      "cell_type": "markdown",
      "source": [
        "3. Consultas Básicas:\n",
        "Escreva consultas SQL para realizar as seguintes tarefas:\n",
        "\n",
        " a) Selecionar todos os registros da tabela \"alunos\"."
      ],
      "metadata": {
        "id": "WCzwotC_oJUZ"
      }
    },
    {
      "cell_type": "code",
      "source": [
        "visualizar = cursor.execute('SELECT * FROM alunos')\n",
        "for aluno in visualizar:\n",
        "    print(aluno)"
      ],
      "metadata": {
        "colab": {
          "base_uri": "https://localhost:8080/"
        },
        "id": "fLM7NTbvoHtn",
        "outputId": "ad74638f-52da-4e12-e194-1b79ac74c0ce"
      },
      "execution_count": null,
      "outputs": [
        {
          "output_type": "stream",
          "name": "stdout",
          "text": [
            "(1, 'João', 20, 'Engenharia')\n",
            "(2, 'Maria', 22, 'Medicina')\n",
            "(3, 'Pedro', 25, 'Ciência da Computação')\n",
            "(4, 'Isadora', 19, 'Psicologia')\n",
            "(5, 'Matheus', 21, 'Engenharia')\n"
          ]
        }
      ]
    },
    {
      "cell_type": "markdown",
      "source": [
        "b) Selecionar o nome e a idade dos alunos com mais de 20 anos."
      ],
      "metadata": {
        "id": "ZkrmqD8EqIU5"
      }
    },
    {
      "cell_type": "code",
      "source": [
        "visualizar = cursor.execute('SELECT nome, idade FROM alunos WHERE idade > 20')\n",
        "for aluno in visualizar:\n",
        "    print(aluno)"
      ],
      "metadata": {
        "colab": {
          "base_uri": "https://localhost:8080/"
        },
        "id": "xseb2z0eqKbo",
        "outputId": "a4afce58-eb77-4bc9-a8b6-9cc8bb64f386"
      },
      "execution_count": null,
      "outputs": [
        {
          "output_type": "stream",
          "name": "stdout",
          "text": [
            "('Maria', 22)\n",
            "('Pedro', 25)\n",
            "('Matheus', 21)\n"
          ]
        }
      ]
    },
    {
      "cell_type": "markdown",
      "source": [
        "c) Selecionar os alunos do curso de \"Engenharia\" em ordem\n",
        "alfabética."
      ],
      "metadata": {
        "id": "g4Ag3adGqPVT"
      }
    },
    {
      "cell_type": "code",
      "source": [
        "visualizar = cursor.execute(\"SELECT nome, curso FROM alunos WHERE curso = 'Engenharia' ORDER BY nome \")\n",
        "for linha in visualizar:\n",
        "    print(linha)"
      ],
      "metadata": {
        "colab": {
          "base_uri": "https://localhost:8080/"
        },
        "id": "whsk-uhqqSAw",
        "outputId": "53a64ad2-ba55-4f9e-a8a3-d1aab883013a"
      },
      "execution_count": null,
      "outputs": [
        {
          "output_type": "stream",
          "name": "stdout",
          "text": [
            "('João', 'Engenharia')\n",
            "('Matheus', 'Engenharia')\n"
          ]
        }
      ]
    },
    {
      "cell_type": "markdown",
      "source": [
        "d) Contar o número total de alunos na tabela"
      ],
      "metadata": {
        "id": "0DuauWWgq18q"
      }
    },
    {
      "cell_type": "code",
      "source": [
        "visualizar = cursor.execute(\"SELECT COUNT(*) FROM alunos\")\n",
        "print(\"Total de alunos:\", total[0])"
      ],
      "metadata": {
        "colab": {
          "base_uri": "https://localhost:8080/"
        },
        "id": "ckjm1qZ9q4OJ",
        "outputId": "0dec78bf-a9c6-4eca-bc55-b6c094fc7a39"
      },
      "execution_count": null,
      "outputs": [
        {
          "output_type": "stream",
          "name": "stdout",
          "text": [
            "Total de alunos: 5\n"
          ]
        }
      ]
    },
    {
      "cell_type": "markdown",
      "source": [
        "4. Atualização e Remoção\n",
        "\n",
        "a) Atualize a idade de um aluno específico na tabela"
      ],
      "metadata": {
        "id": "bboAlh22rBX5"
      }
    },
    {
      "cell_type": "code",
      "source": [
        "cursor.execute(\"UPDATE alunos SET idade = 23 WHERE nome = 'João'\")\n",
        "visualizar = cursor.execute(\"SELECT * FROM alunos WHERE nome = 'João'\")\n",
        "for aluno in visualizar:\n",
        "    print(aluno)"
      ],
      "metadata": {
        "colab": {
          "base_uri": "https://localhost:8080/"
        },
        "id": "s_3WFdFgrFzp",
        "outputId": "6b32ab08-1581-49e1-b8b1-615fc204bd11"
      },
      "execution_count": null,
      "outputs": [
        {
          "output_type": "stream",
          "name": "stdout",
          "text": [
            "(1, 'João', 23, 'Engenharia')\n"
          ]
        }
      ]
    },
    {
      "cell_type": "markdown",
      "source": [
        "b) Remova um aluno pelo seu ID."
      ],
      "metadata": {
        "id": "FozhSDSQrYx4"
      }
    },
    {
      "cell_type": "code",
      "source": [
        "cursor.execute(\"DELETE FROM alunos WHERE id = 2\")\n",
        "visualizar = cursor.execute(\"SELECT * FROM alunos\")\n",
        "for aluno in visualizar:\n",
        "    print(aluno)"
      ],
      "metadata": {
        "colab": {
          "base_uri": "https://localhost:8080/"
        },
        "id": "KNxSDC7Eraz5",
        "outputId": "39e84eb6-47c6-4400-f177-1ddd00d2bb78"
      },
      "execution_count": null,
      "outputs": [
        {
          "output_type": "stream",
          "name": "stdout",
          "text": [
            "(1, 'João', 23, 'Engenharia')\n",
            "(3, 'Pedro', 25, 'Ciência da Computação')\n",
            "(4, 'Isadora', 19, 'Psicologia')\n",
            "(5, 'Matheus', 21, 'Engenharia')\n"
          ]
        }
      ]
    },
    {
      "cell_type": "markdown",
      "source": [
        "5. Criar uma Tabela e Inserir Dados\n",
        "\n",
        "Crie uma tabela chamada \"clientes\" com os campos:\n",
        "id (chave primária),\n",
        "nome (texto),\n",
        "idade (inteiro) e\n",
        "saldo (float). Insira alguns registros de clientes na tabela."
      ],
      "metadata": {
        "id": "G4sne2pDrfzk"
      }
    },
    {
      "cell_type": "code",
      "source": [
        "cursor.execute(\"DROP TABLE IF EXISTS clientes\")\n",
        "cursor.execute(\"CREATE TABLE clientes (id INTEGER PRIMARY KEY, nome VARCHAR(100), idade INTEGER, saldo FLOAT)\")\n",
        "cursor.execute(\"INSERT INTO clientes (nome, idade, saldo) VALUES ('João', 30, 6000.50)\")\n",
        "cursor.execute(\"INSERT INTO clientes (nome, idade, saldo) VALUES ('Maria', 31, 5000.50)\")\n",
        "cursor.execute(\"INSERT INTO clientes (nome, idade, saldo) VALUES ('Debora', 32, 4000.50)\")\n",
        "cursor.execute(\"INSERT INTO clientes (nome, idade, saldo) VALUES ('Carlos', 27, 3000.50)\")\n",
        "cursor.execute(\"INSERT INTO clientes (nome, idade, saldo) VALUES ('Claudia', 25, 2000.50)\")"
      ],
      "metadata": {
        "colab": {
          "base_uri": "https://localhost:8080/"
        },
        "id": "j4pApX6rsqQh",
        "outputId": "0c46cd6b-4dc1-4191-b338-5a046a685387"
      },
      "execution_count": null,
      "outputs": [
        {
          "output_type": "execute_result",
          "data": {
            "text/plain": [
              "<sqlite3.Cursor at 0x7a7a9ad44ec0>"
            ]
          },
          "metadata": {},
          "execution_count": 43
        }
      ]
    },
    {
      "cell_type": "markdown",
      "source": [
        "6. Consultas e Funções Agregadas\n",
        "\n",
        "Escreva consultas SQL para realizar as seguintes tarefas:\n",
        "\n",
        "a) Selecione o nome e a idade dos clientes com idade superior a 30 anos."
      ],
      "metadata": {
        "id": "2NDKmMQutHgo"
      }
    },
    {
      "cell_type": "code",
      "source": [
        "visualizar = cursor.execute(\"SELECT nome, idade FROM clientes WHERE idade>30\")\n",
        "for linha in visualizar:\n",
        "    print(linha)"
      ],
      "metadata": {
        "colab": {
          "base_uri": "https://localhost:8080/"
        },
        "id": "CQcTy0pBtLKA",
        "outputId": "fc6ecb54-2b63-4a44-8c4c-c862adcdee1f"
      },
      "execution_count": null,
      "outputs": [
        {
          "output_type": "stream",
          "name": "stdout",
          "text": [
            "('Maria', 31)\n",
            "('Debora', 32)\n"
          ]
        }
      ]
    },
    {
      "cell_type": "markdown",
      "source": [
        "b) Calcule o saldo médio dos clientes"
      ],
      "metadata": {
        "id": "KfNlIxoKtTu5"
      }
    },
    {
      "cell_type": "code",
      "source": [
        "visualizar = cursor.execute(\"SELECT AVG(saldo) FROM clientes\")\n",
        "for linha in visualizar:\n",
        "    print(linha)"
      ],
      "metadata": {
        "colab": {
          "base_uri": "https://localhost:8080/"
        },
        "id": "nypP9vTMtVyI",
        "outputId": "3abcffb3-7b01-4760-cb34-8566f7acb39a"
      },
      "execution_count": null,
      "outputs": [
        {
          "output_type": "stream",
          "name": "stdout",
          "text": [
            "(4000.5,)\n"
          ]
        }
      ]
    },
    {
      "cell_type": "markdown",
      "source": [
        "c) Encontre o cliente com o saldo máximo"
      ],
      "metadata": {
        "id": "DtSevOoXth1A"
      }
    },
    {
      "cell_type": "code",
      "source": [
        "visualizar = cursor.execute(\"SELECT nome,MAX(saldo) FROM clientes\")\n",
        "for linha in visualizar:\n",
        "    print(linha)"
      ],
      "metadata": {
        "colab": {
          "base_uri": "https://localhost:8080/"
        },
        "id": "IwbZ37xbtZ6f",
        "outputId": "f5251a76-df47-4213-b6a7-a72b437ee0a0"
      },
      "execution_count": null,
      "outputs": [
        {
          "output_type": "stream",
          "name": "stdout",
          "text": [
            "('João', 6000.5)\n"
          ]
        }
      ]
    },
    {
      "cell_type": "markdown",
      "source": [
        "d) Conte quantos clientes têm saldo acima de 1000"
      ],
      "metadata": {
        "id": "p9YAWUmqtpXP"
      }
    },
    {
      "cell_type": "code",
      "source": [
        "#Contagem de saldo para quem tem acima de mil, no caso da minha tabela, todos tem\n",
        "visualizar = cursor.execute(\"SELECT count(saldo) FROM clientes WHERE saldo > 1000.0\")\n",
        "for linha in visualizar:\n",
        "    print(linha)"
      ],
      "metadata": {
        "colab": {
          "base_uri": "https://localhost:8080/"
        },
        "id": "KplMBWFEtq-B",
        "outputId": "499e6a4a-7293-44c2-f714-48a78d47f4e9"
      },
      "execution_count": null,
      "outputs": [
        {
          "output_type": "stream",
          "name": "stdout",
          "text": [
            "(5,)\n"
          ]
        }
      ]
    },
    {
      "cell_type": "markdown",
      "source": [
        "7. Atualização e Remoção com Condições\n",
        "\n",
        "a) Atualize o saldo de um cliente específico."
      ],
      "metadata": {
        "id": "by4xWUext1ny"
      }
    },
    {
      "cell_type": "code",
      "source": [
        "#Aumentando o saldo do João para 10k\n",
        "cursor.execute(\"UPDATE clientes SET saldo = 10000.0 WHERE nome = 'João'\")\n",
        "visualizar = cursor.execute(\"SELECT * FROM clientes WHERE nome = 'João'\")\n",
        "for linha in visualizar:\n",
        "    print(linha)"
      ],
      "metadata": {
        "colab": {
          "base_uri": "https://localhost:8080/"
        },
        "id": "FZ3wX0tpt3No",
        "outputId": "b434d0e8-84fe-4cd3-aeb3-a80fc322fdad"
      },
      "execution_count": null,
      "outputs": [
        {
          "output_type": "stream",
          "name": "stdout",
          "text": [
            "(1, 'João', 30, 10000.0)\n"
          ]
        }
      ]
    },
    {
      "cell_type": "markdown",
      "source": [
        "b) Remova um cliente pelo seu ID"
      ],
      "metadata": {
        "id": "G6n9FrqJt-EP"
      }
    },
    {
      "cell_type": "code",
      "source": [
        "#Deletando a Maria\n",
        "cursor.execute(\"DELETE FROM clientes WHERE id = 2\")\n",
        "visualizar = cursor.execute(\"SELECT * FROM clientes\")\n",
        "for linha in visualizar:\n",
        "    print(linha)"
      ],
      "metadata": {
        "colab": {
          "base_uri": "https://localhost:8080/"
        },
        "id": "HVpdI6nct_nw",
        "outputId": "ec0cb549-d9cb-43b0-c1b7-7eef88cbf1bf"
      },
      "execution_count": null,
      "outputs": [
        {
          "output_type": "stream",
          "name": "stdout",
          "text": [
            "(1, 'João', 30, 10000.0)\n",
            "(3, 'Debora', 32, 4000.5)\n",
            "(4, 'Carlos', 27, 3000.5)\n",
            "(5, 'Claudia', 25, 2000.5)\n"
          ]
        }
      ]
    },
    {
      "cell_type": "markdown",
      "source": [
        "8. Junção de Tabelas\n",
        "\n",
        "Crie uma segunda tabela chamada \"compras\" com os campos: id(chave primária), cliente_id (chave estrangeira referenciando o id da tabela \"clientes\"), produto(texto) e valor (real). Insira algumas compras associadas a clientes existentes na tabela \"clientes\".Escreva uma consulta para exibir o nome do cliente, o produto e o valor de cada compra."
      ],
      "metadata": {
        "id": "LmTzVks2uVRC"
      }
    },
    {
      "cell_type": "code",
      "source": [
        "#Criando tabela compras\n",
        "cursor.execute(\"DROP TABLE IF EXISTS compras\")\n",
        "cursor.execute(\"CREATE TABLE compras (id INTEGER PRIMARY KEY, cliente_id INTEGER, produto VARCHAR(100), valor FLOAT, FOREIGN KEY (cliente_id) REFERENCES clientes(id))\")\n",
        "#Inserindo compras\n",
        "cursor.execute(\"INSERT INTO compras (cliente_id, produto, valor) VALUES (1, 'Camiseta', 29.99)\")\n",
        "cursor.execute(\"INSERT INTO compras (cliente_id, produto, valor) VALUES (2, 'Vestido', 39.99)\")\n",
        "cursor.execute(\"INSERT INTO compras (cliente_id, produto, valor) VALUES (3, 'Calça', 49.99)\")\n",
        "cursor.execute(\"INSERT INTO compras (cliente_id, produto, valor) VALUES (4, 'Bçusa', 59.99)\")\n",
        "cursor.execute(\"INSERT INTO compras (cliente_id, produto, valor) VALUES (5, 'Conjunto', 69.99)\")\n",
        "\n",
        "#Visualizando a tabela\n",
        "visualizar = cursor.execute(\"SELECT * FROM compras\")\n",
        "for linha in visualizar:\n",
        "    print(linha)"
      ],
      "metadata": {
        "colab": {
          "base_uri": "https://localhost:8080/"
        },
        "id": "reDQSS8eud3j",
        "outputId": "c6cb3797-69ba-4fbb-e0ce-51e1f92f9073"
      },
      "execution_count": null,
      "outputs": [
        {
          "output_type": "stream",
          "name": "stdout",
          "text": [
            "(1, 1, 'Camiseta', 29.99)\n",
            "(2, 2, 'Vestido', 39.99)\n",
            "(3, 3, 'Calça', 49.99)\n",
            "(4, 4, 'Bçusa', 59.99)\n",
            "(5, 5, 'Conjunto', 69.99)\n"
          ]
        }
      ]
    },
    {
      "cell_type": "code",
      "source": [
        "#Consulta utilizando JOIN\n",
        "visualizar = cursor.execute(\"SELECT clientes.nome, compras.produto, compras.valor FROM clientes JOIN compras ON clientes.id = compras.cliente_id\")\n",
        "for linha in visualizar:\n",
        "    print(linha)"
      ],
      "metadata": {
        "colab": {
          "base_uri": "https://localhost:8080/"
        },
        "id": "ejx7NT8PvVDH",
        "outputId": "f57eb55f-3e2f-4052-c310-837031c3e799"
      },
      "execution_count": null,
      "outputs": [
        {
          "output_type": "stream",
          "name": "stdout",
          "text": [
            "('João', 'Camiseta', 29.99)\n",
            "('Debora', 'Calça', 49.99)\n",
            "('Carlos', 'Bçusa', 59.99)\n",
            "('Claudia', 'Conjunto', 69.99)\n"
          ]
        }
      ]
    }
  ]
}